{
  "nbformat": 4,
  "nbformat_minor": 0,
  "metadata": {
    "colab": {
      "name": "Insurance Risk assessment with Monte Carlo method .ipynb",
      "provenance": [],
      "collapsed_sections": [
        "lWj_Jv7HdnLB"
      ]
    },
    "kernelspec": {
      "display_name": "Python",
      "language": "python",
      "name": "conda-env-python-py"
    },
    "language_info": {
      "codemirror_mode": {
        "name": "ipython",
        "version": 3
      },
      "file_extension": ".py",
      "mimetype": "text/x-python",
      "name": "python",
      "nbconvert_exporter": "python",
      "pygments_lexer": "ipython3",
      "version": "3.7.10"
    }
  },
  "cells": [
    {
      "cell_type": "markdown",
      "metadata": {
        "id": "pKJCVZr8y4BP"
      },
      "source": [
        "# **Insurance Risk assessment with Monte Carlo method using Apache Spark**\n"
      ]
    },
    {
      "cell_type": "code",
      "metadata": {
        "id": "Ar3KRIssScHa"
      },
      "source": [
        "import random   \n",
        "N = 1000000 "
      ],
      "execution_count": 1,
      "outputs": []
    },
    {
      "cell_type": "code",
      "metadata": {
        "id": "NWmdhuW6-9sb",
        "colab": {
          "base_uri": "https://localhost:8080/"
        },
        "outputId": "59a0d218-cbe4-42d6-b2ca-34bf1682c953"
      },
      "source": [
        "bingo = 0 \n",
        "\n",
        "for i in range(N):\n",
        "   \n",
        "    x= random.uniform(-0.5, 0.5)\n",
        "    y= random.uniform(-0.5, 0.5)\n",
        "  \n",
        "   \n",
        "    if (x**2 + y**2)<= 0.25: \n",
        "        bingo+= 1 \n",
        "  \n",
        "    \n",
        "    pi = 4* bingo/N\n",
        "\n",
        "  \n",
        "print(\"Approximate value of Pi is \", pi)    "
      ],
      "execution_count": 2,
      "outputs": [
        {
          "output_type": "stream",
          "name": "stdout",
          "text": [
            "Approximate value of Pi is  3.140204\n"
          ]
        }
      ]
    },
    {
      "cell_type": "markdown",
      "metadata": {
        "id": "lWj_Jv7HdnLB"
      },
      "source": [
        "## Initialization/loading Spark\n"
      ]
    },
    {
      "cell_type": "code",
      "metadata": {
        "id": "DtNeLPQjhTZu",
        "colab": {
          "base_uri": "https://localhost:8080/"
        },
        "outputId": "6dae575b-a0f7-497a-ec50-9c8f07d0f35c"
      },
      "source": [
        "pip install pyspark"
      ],
      "execution_count": 4,
      "outputs": [
        {
          "output_type": "stream",
          "name": "stdout",
          "text": [
            "Collecting pyspark\n",
            "  Downloading pyspark-3.2.0.tar.gz (281.3 MB)\n",
            "\u001b[K     |████████████████████████████████| 281.3 MB 40 kB/s \n",
            "\u001b[?25hCollecting py4j==0.10.9.2\n",
            "  Downloading py4j-0.10.9.2-py2.py3-none-any.whl (198 kB)\n",
            "\u001b[K     |████████████████████████████████| 198 kB 47.8 MB/s \n",
            "\u001b[?25hBuilding wheels for collected packages: pyspark\n",
            "  Building wheel for pyspark (setup.py) ... \u001b[?25l\u001b[?25hdone\n",
            "  Created wheel for pyspark: filename=pyspark-3.2.0-py2.py3-none-any.whl size=281805912 sha256=27ca7b18de08d8d2e7c79e6dd9854ed34e6eb2f98580d99190904e5ae6f6d8b5\n",
            "  Stored in directory: /root/.cache/pip/wheels/0b/de/d2/9be5d59d7331c6c2a7c1b6d1a4f463ce107332b1ecd4e80718\n",
            "Successfully built pyspark\n",
            "Installing collected packages: py4j, pyspark\n",
            "Successfully installed py4j-0.10.9.2 pyspark-3.2.0\n"
          ]
        }
      ]
    },
    {
      "cell_type": "code",
      "metadata": {
        "id": "D9mBmdZ7hTZv"
      },
      "source": [
        "try:\n",
        "    from pyspark import SparkContext, SparkConf\n",
        "    from pyspark.sql import SparkSession\n",
        "except ImportError as e:\n",
        "    printmd('<<<<<!!!!! Restart kernel after installing Apache Spark !!!!!>>>>>')"
      ],
      "execution_count": 5,
      "outputs": []
    },
    {
      "cell_type": "code",
      "metadata": {
        "id": "mdGO3tdwhTZw"
      },
      "source": [
        "sc = SparkContext.getOrCreate(SparkConf().setMaster(\"local[*]\"))\n",
        "\n",
        "spark = SparkSession \\\n",
        "    .builder \\\n",
        "    .getOrCreate()"
      ],
      "execution_count": 6,
      "outputs": []
    },
    {
      "cell_type": "markdown",
      "metadata": {
        "id": "hQJC1x5oNz6k"
      },
      "source": [
        "## CALCULATIONS FOR CLASSICAL RISK PROCESS\n"
      ]
    },
    {
      "cell_type": "code",
      "metadata": {
        "id": "0idPZJOAzOUw"
      },
      "source": [
        "INITIAL_CAPITAL = 10  \n",
        "MAXTIME = 10        \n",
        "INCOME_INTENSITY = 1  \n",
        "CLAIM_INTENSITY = 1  \n",
        "CLAIM_MEAN = 1      \n",
        "TRAJEC_NUM = 1000    "
      ],
      "execution_count": 7,
      "outputs": []
    },
    {
      "cell_type": "markdown",
      "metadata": {
        "id": "R5E3MA4UOfwu"
      },
      "source": [
        "**THE MODEL**\n"
      ]
    },
    {
      "cell_type": "code",
      "metadata": {
        "id": "Bau_E7BwzBeQ"
      },
      "source": [
        "import random\n",
        "import time\n",
        "from operator import add\n",
        "\n",
        "def bankrupcy(seed):\n",
        "    random.seed(seed)\n",
        "    capital = INITIAL_CAPITAL\n",
        "    time = 0\n",
        "    while (time < MAXTIME)and(capital>=0):\n",
        "      time_step=random.expovariate(CLAIM_INTENSITY)\n",
        "      time+=time_step\n",
        "      capital += INCOME_INTENSITY * time_step - random.expovariate(1/CLAIM_MEAN)\n",
        "    if (capital<0):\n",
        "      return 1 \n",
        "    else: \n",
        "      return 0"
      ],
      "execution_count": 8,
      "outputs": []
    },
    {
      "cell_type": "markdown",
      "metadata": {
        "id": "s_7BhI26kEHH"
      },
      "source": [
        "**CALCULATIONS**\n"
      ]
    },
    {
      "cell_type": "code",
      "metadata": {
        "id": "WKhjYU9izwpn",
        "colab": {
          "base_uri": "https://localhost:8080/"
        },
        "outputId": "3a3fb777-ba81-4e2a-f557-577a77e3fc58"
      },
      "source": [
        "ruin_probability =sc.parallelize([time.time() + i for i in range(TRAJEC_NUM)]).map(bankrupcy).reduce(add)/TRAJEC_NUM\n",
        "print(\"Our company will bunkrupt with\", ruin_probability, \"probability\")"
      ],
      "execution_count": 9,
      "outputs": [
        {
          "output_type": "stream",
          "name": "stdout",
          "text": [
            "Our company will bunkrupt with 0.05 probability\n"
          ]
        }
      ]
    }
  ]
}